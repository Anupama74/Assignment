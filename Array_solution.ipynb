{
 "cells": [
  {
   "cell_type": "code",
   "execution_count": 3,
   "metadata": {},
   "outputs": [],
   "source": [
    "def subarray(x,y,n):\n",
    "    minimum = n+1\n",
    "    for a in range (0,n):\n",
    "        total = x[a]\n",
    "        if (total>y):\n",
    "            return total\n",
    "        for b in range(a+1,n):\n",
    "            total += x[b]\n",
    "            if total>y and (b-a+1) < minimum:\n",
    "                minimum = (b-a+1)\n",
    "                result = x[a:b+1]\n",
    "    return result"
   ]
  },
  {
   "cell_type": "code",
   "execution_count": 5,
   "metadata": {},
   "outputs": [
    {
     "name": "stdout",
     "output_type": "stream",
     "text": [
      "Enter array-X: 9 18 2 4 5\n",
      "Enter the number-y:21\n",
      "Output subarray of smallest length is [9, 18]\n"
     ]
    }
   ],
   "source": [
    "array = list(map(int, input(\"Enter array-X: \").split( )))   #Enter digits with space\n",
    "number = int(input(\"Enter the number-y:\"))\n",
    "length = len(array)\n",
    "\n",
    "sub_arr = subarray(array,number,length)\n",
    "print(\"Output subarray of smallest length is\",sub_arr)\n"
   ]
  },
  {
   "cell_type": "code",
   "execution_count": null,
   "metadata": {},
   "outputs": [],
   "source": []
  }
 ],
 "metadata": {
  "kernelspec": {
   "display_name": "Python 3",
   "language": "python",
   "name": "python3"
  }
 },
 "nbformat": 4,
 "nbformat_minor": 2
}
