{
 "cells": [
  {
   "cell_type": "code",
   "execution_count": 1,
   "metadata": {},
   "outputs": [],
   "source": [
    "from pprint import pprint\n",
    "from collections import defaultdict\n",
    "csv=\"\"\"\n",
    "1,Dinesh,2\n",
    "2,Ramesh,4\n",
    "3,Sandeep,4\n",
    "4,Abhishek,null\n",
    "\"\"\"\n",
    "def show_val(title, val):\n",
    "    pprint(val)"
   ]
  },
  {
   "cell_type": "code",
   "execution_count": 2,
   "metadata": {},
   "outputs": [
    {
     "name": "stdout",
     "output_type": "stream",
     "text": [
      "[('1', 'Dinesh', '2'), ('2', 'Ramesh', '4'), ('3', 'Sandeep', '4'), ('4', 'Abhishek', 'null')] null\n"
     ]
    }
   ],
   "source": [
    "lines = [ l.strip() for l in csv.strip().splitlines() ]\n",
    "ppl = [ tuple(l.split(',')) for l in lines ]     #convert list into people tuples\n",
    "len(ppl)\n",
    "x=ppl[len(ppl)-1]\n",
    "last=x[2]      #to iterate till last value since they are in the order, if not,consider maximum value \n",
    "print(ppl,last)\n"
   ]
  },
  {
   "cell_type": "code",
   "execution_count": 3,
   "metadata": {},
   "outputs": [
    {
     "name": "stdout",
     "output_type": "stream",
     "text": [
      "defaultdict(<class 'list'>,\n",
      "            {'2': [('1', 'Dinesh', '2')],\n",
      "             '4': [('2', 'Ramesh', '4'), ('3', 'Sandeep', '4')],\n",
      "             'null': [('4', 'Abhishek', 'null')]})\n"
     ]
    }
   ],
   "source": [
    "emps = defaultdict(list)\n",
    "for i in ppl:\n",
    "    emps[i[2]].append(i)\n",
    "#pprint(emps.keys())     #creating dict to build tree/ to access it easily according to the heirarchy\n",
    "#pprint(emps.values())\n",
    "pprint(emps)"
   ]
  },
  {
   "cell_type": "code",
   "execution_count": 4,
   "metadata": {
    "scrolled": true
   },
   "outputs": [
    {
     "name": "stdout",
     "output_type": "stream",
     "text": [
      "{'eid': '4',\n",
      " 'name': 'Abhishek',\n",
      " 're-level': [{'eid': '2',\n",
      "               'name': 'Ramesh',\n",
      "               're-level': [{'eid': '1', 'name': 'Dinesh'}]},\n",
      "              {'eid': '3', 'name': 'Sandeep'}]}\n"
     ]
    }
   ],
   "source": [
    "def buildtree(t=None, emp_eid=last):\n",
    "    toemp = emps.get(emp_eid, None)   #contructing a data hierarchy\n",
    "    if toemp is None:         #checking for parent node/top level employee\n",
    "        return t\n",
    "    for eid, name, mid in toemp:        \n",
    "        level1={ 'name':name,'eid':eid} \n",
    "        if t is None:\n",
    "            t = level1\n",
    "        else:\n",
    "            levels = t.setdefault('re-level',[])  \n",
    "            levels.append(level1)\n",
    "        buildtree(level1,eid)     #Building tree using the defined structure.\n",
    "    return t\n",
    "\n",
    "data = buildtree()\n",
    "pprint(data)     \n"
   ]
  },
  {
   "cell_type": "markdown",
   "metadata": {},
   "source": [
    "Since I used tree structure I left the output to this point.\n",
    "The logic behind it is clear so my guess for the output too."
   ]
  }
 ],
 "metadata": {
  "kernelspec": {
   "display_name": "Python 3",
   "language": "python",
   "name": "python3"
  },
  "language_info": {
   "codemirror_mode": {
    "name": "ipython",
    "version": 3
   },
   "file_extension": ".py",
   "mimetype": "text/x-python",
   "name": "python",
   "nbconvert_exporter": "python",
   "pygments_lexer": "ipython3",
   "version": "3.6.4"
  }
 },
 "nbformat": 4,
 "nbformat_minor": 2
}
